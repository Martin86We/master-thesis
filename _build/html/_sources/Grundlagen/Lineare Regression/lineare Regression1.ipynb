{
 "cells": [
  {
   "cell_type": "markdown",
   "id": "250a7820",
   "metadata": {},
   "source": [
    "# Lineare Regression (mit einem Punkt)"
   ]
  },
  {
   "cell_type": "code",
   "execution_count": 7,
   "id": "0b4cc270",
   "metadata": {},
   "outputs": [
    {
     "name": "stdout",
     "output_type": "stream",
     "text": [
      "Kosten J = 7.29 wenn a = 1.3\n",
      "Kosten J = 5.905 wenn a = 1.57\n",
      "Kosten J = 4.783 wenn a = 1.813\n",
      "Kosten J = 3.874 wenn a = 2.032\n",
      "Kosten J = 3.138 wenn a = 2.229\n",
      "Kosten J = 2.542 wenn a = 2.406\n",
      "Kosten J = 2.059 wenn a = 2.565\n",
      "Kosten J = 1.668 wenn a = 2.709\n",
      "Kosten J = 1.351 wenn a = 2.838\n",
      "Kosten J = 1.094 wenn a = 2.954\n",
      "Kosten J = 0.886 wenn a = 3.059\n",
      "Kosten J = 0.718 wenn a = 3.153\n",
      "Kosten J = 0.581 wenn a = 3.237\n",
      "Kosten J = 0.471 wenn a = 3.314\n",
      "Kosten J = 0.382 wenn a = 3.382\n",
      "Kosten J = 0.309 wenn a = 3.444\n",
      "Kosten J = 0.25 wenn a = 3.5\n",
      "Kosten J = 0.203 wenn a = 3.55\n",
      "Kosten J = 0.164 wenn a = 3.595\n",
      "Kosten J = 0.133 wenn a = 3.635\n"
     ]
    },
    {
     "data": {
      "image/png": "[encoded data removed]",
      "text/plain": [
       "<Figure size 432x288 with 1 Axes>"
      ]
     },
     "metadata": {
      "needs_background": "light"
     },
     "output_type": "display_data"
    }
   ],
   "source": [
    "import numpy as np\n",
    "import matplotlib.pyplot as plt\n",
    "\n",
    "\n",
    "\n",
    "def f(a, x):\n",
    "    return a * x\n",
    "\n",
    "\n",
    "def J(a, x, y):\n",
    "    return (y - a * x) ** 2\n",
    "\n",
    "\n",
    "def J_ableitung_a(a, x, y):\n",
    "    return -2 * x * (y - a * x)\n",
    "\n",
    "\n",
    "\n",
    "\n",
    "point = (1, 4)\n",
    "lr = 0.05\n",
    "a = 1\n",
    "for i in range(0, 20):\n",
    "    da = J_ableitung_a(a, point[0], point[1])\n",
    "    a = a - lr * da\n",
    "    print(\"Kosten J = \" + str(round(J(a, point[0], point[1]),3)) + \" wenn a = \" + str(round(a,3)))\n",
    "\n",
    "xs = np.arange(-2, 2, 0.1)\n",
    "ys = f(a, xs)\n",
    "plt.plot(xs, ys)\n",
    "\n",
    "plt.scatter(point[0], point[1])\n",
    "plt.show()\n"
   ]
  }
 ],
 "metadata": {
  "kernelspec": {
   "display_name": "Python 3",
   "language": "python",
   "name": "python3"
  },
  "language_info": {
   "codemirror_mode": {
    "name": "ipython",
    "version": 3
   },
   "file_extension": ".py",
   "mimetype": "text/x-python",
   "name": "python",
   "nbconvert_exporter": "python",
   "pygments_lexer": "ipython3",
   "version": "3.7.0"
  }
 },
 "nbformat": 4,
 "nbformat_minor": 5
}
