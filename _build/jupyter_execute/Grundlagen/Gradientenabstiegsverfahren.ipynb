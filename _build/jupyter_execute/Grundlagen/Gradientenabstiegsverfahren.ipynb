{
 "cells": [
  {
   "cell_type": "markdown",
   "id": "ddff0b3e",
   "metadata": {},
   "source": [
    "# Gradientenabstiegsverfahren"
   ]
  },
  {
   "cell_type": "code",
   "execution_count": 1,
   "id": "15cfb615",
   "metadata": {},
   "outputs": [],
   "source": [
    "import numpy as np\n",
    "import matplotlib.pyplot as plt\n",
    "\n",
    "def f(x):\n",
    "    return x ** 2 - 4 * x + 5\n",
    "\n",
    "\n",
    "def f_ableitung(x):\n",
    "    return 2 * x - 4\n",
    "\n",
    "\n"
   ]
  },
  {
   "cell_type": "code",
   "execution_count": 2,
   "id": "fc1d8463",
   "metadata": {},
   "outputs": [
    {
     "name": "stdout",
     "output_type": "stream",
     "text": [
      "4.7\n",
      "4.43\n",
      "4.186999999999999\n",
      "3.9682999999999993\n",
      "3.7714699999999994\n",
      "3.5943229999999993\n",
      "3.4348906999999995\n",
      "3.2914016299999997\n",
      "3.1622614669999995\n",
      "3.0460353202999997\n",
      "2.9414317882699996\n",
      "2.847288609443\n",
      "2.7625597484987\n",
      "2.68630377364883\n",
      "2.617673396283947\n",
      "2.555906056655552\n",
      "2.500315450989997\n",
      "2.450283905890997\n",
      "2.4052555153018975\n",
      "2.364729963771708\n",
      "2.328256967394537\n",
      "2.2954312706550835\n",
      "2.2658881435895752\n",
      "2.239299329230618\n",
      "2.215369396307556\n"
     ]
    },
    {
     "data": {
      "image/png": "[encoded data removed]",
      "text/plain": [
       "<Figure size 432x288 with 1 Axes>"
      ]
     },
     "metadata": {
      "filenames": {
       "image/png": "C:\\Users\\Martin\\Desktop\\jupyter_Book_data\\2020-jupyterbook-with-turing-way-master\\my_jupyter-book\\_build\\jupyter_execute\\Grundlagen\\Gradientenabstiegsverfahren_2_1.png"
      },
      "needs_background": "light"
     },
     "output_type": "display_data"
    }
   ],
   "source": [
    "x = 5\n",
    "plt.scatter(x, f(x), c=\"r\")\n",
    "for i in range(0, 25):\n",
    "    steigung_x = f_ableitung(x)\n",
    "    x = x - 0.05 * steigung_x\n",
    "    plt.scatter(x, f(x), c=\"r\")\n",
    "    print(x)\n",
    "\n",
    "xs = np.arange(-2, 6, 0.1)\n",
    "ys = f(xs)\n",
    "plt.plot(xs, ys)\n",
    "plt.show()"
   ]
  },
  {
   "cell_type": "code",
   "execution_count": null,
   "id": "2ffdcf00",
   "metadata": {},
   "outputs": [],
   "source": []
  }
 ],
 "metadata": {
  "kernelspec": {
   "display_name": "Python 3",
   "language": "python",
   "name": "python3"
  },
  "language_info": {
   "codemirror_mode": {
    "name": "ipython",
    "version": 3
   },
   "file_extension": ".py",
   "mimetype": "text/x-python",
   "name": "python",
   "nbconvert_exporter": "python",
   "pygments_lexer": "ipython3",
   "version": "3.7.0"
  }
 },
 "nbformat": 4,
 "nbformat_minor": 5
}