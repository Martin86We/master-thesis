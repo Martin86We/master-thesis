{
 "cells": [
  {
   "cell_type": "markdown",
   "id": "43086a4b",
   "metadata": {},
   "source": [
    "# Gradientenabstiegsverfahren"
   ]
  },
  {
   "cell_type": "code",
   "execution_count": 1,
   "id": "1b15aac0",
   "metadata": {},
   "outputs": [],
   "source": [
    "import numpy as np\n",
    "import matplotlib.pyplot as plt\n",
    "\n",
    "def f(x):\n",
    "    return x ** 2 - 4 * x + 5\n",
    "\n",
    "\n",
    "def f_ableitung(x):\n",
    "    return 2 * x - 4\n",
    "\n",
    "\n"
   ]
  },
  {
   "cell_type": "code",
   "execution_count": 2,
   "id": "a1b74ac9",
   "metadata": {},
   "outputs": [
    {
     "name": "stdout",
     "output_type": "stream",
     "text": [
      "4.7\n",
      "4.43\n",
      "4.187\n",
      "3.968\n",
      "3.771\n",
      "3.594\n",
      "3.435\n",
      "3.291\n",
      "3.162\n",
      "3.046\n",
      "2.941\n",
      "2.847\n",
      "2.763\n",
      "2.686\n",
      "2.618\n",
      "2.556\n",
      "2.5\n",
      "2.45\n",
      "2.405\n",
      "2.365\n",
      "2.328\n",
      "2.295\n",
      "2.266\n",
      "2.239\n",
      "2.215\n"
     ]
    },
    {
     "data": {
      "image/png": "[encoded data removed]",
      "text/plain": [
       "<Figure size 432x288 with 1 Axes>"
      ]
     },
     "metadata": {
      "filenames": {
       "image/png": "/home/martin/Desktop/my-book-files/master-thesis/_build/jupyter_execute/Grundlagen/Lineare Regression/Gradientenabstiegsverfahren_2_1.png"
      },
      "needs_background": "light"
     },
     "output_type": "display_data"
    }
   ],
   "source": [
    "x = 5\n",
    "plt.scatter(x, f(x), c=\"r\")\n",
    "for i in range(0, 25):\n",
    "    steigung_x = f_ableitung(x)\n",
    "    x = x - 0.05 * steigung_x\n",
    "    plt.scatter(x, f(x), c=\"r\")\n",
    "    print(round(x,3))\n",
    "\n",
    "xs = np.arange(-2, 6, 0.1)\n",
    "ys = f(xs)\n",
    "plt.plot(xs, ys)\n",
    "plt.show()"
   ]
  }
 ],
 "metadata": {
  "kernelspec": {
   "display_name": "Python 3",
   "language": "python",
   "name": "python3"
  },
  "language_info": {
   "codemirror_mode": {
    "name": "ipython",
    "version": 3
   },
   "file_extension": ".py",
   "mimetype": "text/x-python",
   "name": "python",
   "nbconvert_exporter": "python",
   "pygments_lexer": "ipython3",
   "version": "3.7.7"
  }
 },
 "nbformat": 4,
 "nbformat_minor": 5
}