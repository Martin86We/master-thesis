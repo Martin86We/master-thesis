{
 "cells": [
  {
   "cell_type": "markdown",
   "id": "3be155ab",
   "metadata": {},
   "source": [
    "# Lineare Regression (vektorisiert)"
   ]
  },
  {
   "cell_type": "code",
   "execution_count": 4,
   "id": "b81a3e2e",
   "metadata": {},
   "outputs": [
    {
     "name": "stdout",
     "output_type": "stream",
     "text": [
      "Kosten wenn a = 1.538: 10.639\n",
      "Kosten wenn a = 1.974: 7.182\n",
      "Kosten wenn a = 2.329: 4.9\n",
      "Kosten wenn a = 2.617: 3.393\n",
      "Kosten wenn a = 2.852: 2.399\n",
      "Kosten wenn a = 3.042: 1.742\n",
      "Kosten wenn a = 3.197: 1.309\n",
      "Kosten wenn a = 3.322: 1.022\n",
      "Kosten wenn a = 3.424: 0.834\n",
      "Kosten wenn a = 3.507: 0.709\n",
      "Kosten wenn a = 3.575: 0.627\n",
      "Kosten wenn a = 3.629: 0.572\n",
      "Kosten wenn a = 3.674: 0.536\n",
      "Kosten wenn a = 3.71: 0.513\n",
      "Kosten wenn a = 3.739: 0.497\n",
      "Kosten wenn a = 3.763: 0.487\n",
      "Kosten wenn a = 3.783: 0.48\n",
      "Kosten wenn a = 3.798: 0.475\n",
      "Kosten wenn a = 3.811: 0.472\n",
      "Kosten wenn a = 3.822: 0.47\n",
      "Kosten wenn a = 3.83: 0.469\n",
      "Kosten wenn a = 3.837: 0.468\n",
      "Kosten wenn a = 3.842: 0.468\n",
      "Kosten wenn a = 3.847: 0.467\n",
      "Kosten wenn a = 3.851: 0.467\n",
      "Kosten wenn a = 3.854: 0.467\n",
      "Kosten wenn a = 3.856: 0.467\n",
      "Kosten wenn a = 3.858: 0.467\n",
      "Kosten wenn a = 3.86: 0.467\n",
      "Kosten wenn a = 3.861: 0.467\n",
      "Kosten wenn a = 3.862: 0.467\n",
      "Kosten wenn a = 3.863: 0.467\n",
      "Kosten wenn a = 3.864: 0.467\n",
      "Kosten wenn a = 3.864: 0.467\n",
      "Kosten wenn a = 3.865: 0.467\n",
      "Kosten wenn a = 3.865: 0.467\n",
      "Kosten wenn a = 3.865: 0.467\n",
      "Kosten wenn a = 3.866: 0.467\n",
      "Kosten wenn a = 3.866: 0.467\n",
      "Kosten wenn a = 3.866: 0.467\n",
      "Kosten wenn a = 3.866: 0.467\n",
      "Kosten wenn a = 3.866: 0.467\n",
      "Kosten wenn a = 3.866: 0.467\n",
      "Kosten wenn a = 3.866: 0.467\n",
      "Kosten wenn a = 3.866: 0.467\n",
      "Kosten wenn a = 3.866: 0.467\n",
      "Kosten wenn a = 3.867: 0.467\n",
      "Kosten wenn a = 3.867: 0.467\n",
      "Kosten wenn a = 3.867: 0.467\n",
      "Kosten wenn a = 3.867: 0.467\n"
     ]
    },
    {
     "data": {
      "image/png": "[encoded data removed]",
      "text/plain": [
       "<Figure size 432x288 with 1 Axes>"
      ]
     },
     "metadata": {
      "filenames": {
       "image/png": "/home/martin/Desktop/my-book-files/master-thesis/_build/jupyter_execute/Grundlagen/Lineare Regression/lineare Regression (vektorisiert)_1_1.png"
      },
      "needs_background": "light"
     },
     "output_type": "display_data"
    }
   ],
   "source": [
    "import numpy as np\n",
    "import matplotlib.pyplot as plt\n",
    "\n",
    "\n",
    "def f(a, x):\n",
    "    return a * x\n",
    "\n",
    "\n",
    "def J(a, x, y):\n",
    "    return np.mean((y - a * x) ** 2)\n",
    "\n",
    "\n",
    "def J_ableitung_a(a, x, y):\n",
    "    return np.mean(-2 * x * (y - a * x))\n",
    "\n",
    "\n",
    "points = np.array([\n",
    "    [1, 4],\n",
    "    [1.5, 5],\n",
    "    [2, 8],\n",
    "    [0.5, 3]\n",
    "])\n",
    "\n",
    "lr = 0.05\n",
    "a = 1\n",
    "for i in range(0, 50):\n",
    "    da = J_ableitung_a(a, points[:, 0], points[:, 1])\n",
    "    a = a - lr * da\n",
    "\n",
    "    cost = J(a, points[:, 0], points[:, 1])\n",
    "    print(\"Kosten wenn a = \" + str(round(a,3)) + \": \" + str(round(cost,3)))\n",
    "\n",
    "xs = np.arange(-2, 2, 0.1)\n",
    "ys = f(a, xs)\n",
    "plt.plot(xs, ys)\n",
    "\n",
    "plt.scatter(points[:, 0], points[:, 1], color=\"red\")\n",
    "plt.show()\n"
   ]
  }
 ],
 "metadata": {
  "kernelspec": {
   "display_name": "Python 3",
   "language": "python",
   "name": "python3"
  },
  "language_info": {
   "codemirror_mode": {
    "name": "ipython",
    "version": 3
   },
   "file_extension": ".py",
   "mimetype": "text/x-python",
   "name": "python",
   "nbconvert_exporter": "python",
   "pygments_lexer": "ipython3",
   "version": "3.7.0"
  }
 },
 "nbformat": 4,
 "nbformat_minor": 5
}