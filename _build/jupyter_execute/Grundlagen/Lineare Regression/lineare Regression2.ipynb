{
 "cells": [
  {
   "cell_type": "markdown",
   "id": "738f2e70",
   "metadata": {},
   "source": [
    "# Lineare Regression (mehrere Punkte)"
   ]
  },
  {
   "cell_type": "code",
   "execution_count": 1,
   "id": "320c66d1",
   "metadata": {},
   "outputs": [
    {
     "name": "stdout",
     "output_type": "stream",
     "text": [
      "Kosten wenn a = 1.758: 10.616\n",
      "Kosten wenn a = 2.286: 5.407\n",
      "Kosten wenn a = 2.654: 2.848\n",
      "Kosten wenn a = 2.911: 1.585\n",
      "Kosten wenn a = 3.091: 0.959\n",
      "Kosten wenn a = 3.216: 0.646\n",
      "Kosten wenn a = 3.303: 0.488\n",
      "Kosten wenn a = 3.364: 0.407\n",
      "Kosten wenn a = 3.406: 0.364\n",
      "Kosten wenn a = 3.436: 0.342\n",
      "Kosten wenn a = 3.457: 0.33\n",
      "Kosten wenn a = 3.471: 0.323\n",
      "Kosten wenn a = 3.481: 0.318\n",
      "Kosten wenn a = 3.488: 0.316\n",
      "Kosten wenn a = 3.493: 0.314\n",
      "Kosten wenn a = 3.496: 0.313\n",
      "Kosten wenn a = 3.499: 0.313\n",
      "Kosten wenn a = 3.5: 0.312\n",
      "Kosten wenn a = 3.501: 0.312\n",
      "Kosten wenn a = 3.502: 0.312\n"
     ]
    },
    {
     "data": {
      "image/png": "[encoded data removed]",
      "text/plain": [
       "<Figure size 432x288 with 1 Axes>"
      ]
     },
     "metadata": {
      "filenames": {
       "image/png": "/home/martin/Desktop/my-book-files/master-thesis/_build/jupyter_execute/Grundlagen/Lineare Regression/lineare Regression2_1_1.png"
      },
      "needs_background": "light"
     },
     "output_type": "display_data"
    }
   ],
   "source": [
    "import numpy as np\n",
    "import matplotlib.pyplot as plt\n",
    "\n",
    "\n",
    "\n",
    "def f(a, x):\n",
    "    return a * x\n",
    "\n",
    "\n",
    "def J(a, x, y):\n",
    "    return (y - a * x) ** 2\n",
    "\n",
    "\n",
    "def J_ableitung_a(a, x, y):\n",
    "    return -2 * x * (y - a * x)\n",
    "\n",
    "\n",
    "\n",
    "point1 = (1, 4)\n",
    "point2 = (1.5, 5)\n",
    "\n",
    "lr = 0.05\n",
    "a = 1\n",
    "for i in range(0, 20):\n",
    "    da = J_ableitung_a(a, point1[0], point1[1])\n",
    "    a = a - lr * da\n",
    "\n",
    "    da = J_ableitung_a(a, point2[0], point2[1])\n",
    "    a = a - lr * da\n",
    "\n",
    "    cost = J(a, point1[0], point1[1]) + J(a, point2[0], point2[1])\n",
    "    print(\"Kosten wenn a = \" + str(round(a,3)) + \": \" + str(round(cost,3)))\n",
    "\n",
    "xs = np.arange(-2, 2, 0.1)\n",
    "ys = f(a, xs)\n",
    "plt.plot(xs, ys)    \n",
    "\n",
    "plt.scatter(point1[0], point1[1], color=\"red\")\n",
    "plt.scatter(point2[0], point2[1], color=\"green\")\n",
    "plt.show()\n"
   ]
  },
  {
   "cell_type": "code",
   "execution_count": null,
   "id": "b81a3e2e",
   "metadata": {},
   "outputs": [],
   "source": []
  }
 ],
 "metadata": {
  "kernelspec": {
   "display_name": "Python 3",
   "language": "python",
   "name": "python3"
  },
  "language_info": {
   "codemirror_mode": {
    "name": "ipython",
    "version": 3
   },
   "file_extension": ".py",
   "mimetype": "text/x-python",
   "name": "python",
   "nbconvert_exporter": "python",
   "pygments_lexer": "ipython3",
   "version": "3.7.7"
  }
 },
 "nbformat": 4,
 "nbformat_minor": 5
}